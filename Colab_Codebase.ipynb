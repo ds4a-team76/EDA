{
  "nbformat": 4,
  "nbformat_minor": 0,
  "metadata": {
    "colab": {
      "name": "Colab Codebase.ipynb",
      "provenance": []
    },
    "kernelspec": {
      "name": "python3",
      "display_name": "Python 3"
    }
  },
  "cells": [
    {
      "cell_type": "code",
      "metadata": {
        "id": "gKT1BabIep47"
      },
      "source": [
        "import pandas as pd\n",
        "from sqlalchemy import create_engine, text\n",
        "import matplotlib.pyplot as plt\n",
        "import seaborn as sns\n",
        "import datetime\n",
        "import os/\n",
        "import pathlib as pl\n",
        "%matplotlib inline \n",
        "engine=create_engine('postgresql://postgres:++++++++++.@+++++++++/++++++', max_overflow=20)\n",
        "\n",
        "def runQuery(sql):\n",
        "    result = engine.connect().execution_options(isolation_level=\"AUTOCOMMIT\").execute((text(sql)))\n",
        "    return pd.DataFrame(result.fetchall(), columns=result.keys())\n",
        "    "
      ],
      "execution_count": null,
      "outputs": []
    },
    {
      "cell_type": "markdown",
      "metadata": {
        "id": "LIiTbJ96US02"
      },
      "source": [
        "Front end queries "
      ]
    },
    {
      "cell_type": "markdown",
      "metadata": {
        "id": "l5bMw2EwUeem"
      },
      "source": [
        "Relation between average speed and passengers amount, and the quantity of routes with theses characteristics"
      ]
    },
    {
      "cell_type": "code",
      "metadata": {
        "id": "38gSLVSHUxoI"
      },
      "source": [
        "query = '''\n",
        "SELECT secuenciarecorrido, idruta, avg(CANTPASAJEROSSUBEN) as pasajeros, avg(velocidad) as vel_promedio\n",
        "    FROM detalles_recorrido WHERE recorridofinalizado = 'S'\n",
        "    group by secuenciarecorrido, idruta;\n",
        "    '''\n",
        "df = runQuery(query)   \n",
        "df.head(10)\n",
        "sns.displot(x='pasajeros',y='vel_promedio',data=df[df['pasajeros']<100],binwidth=(10, 10),cbar=True)"
      ],
      "execution_count": null,
      "outputs": []
    },
    {
      "cell_type": "markdown",
      "metadata": {
        "id": "U0dwK4UgVHou"
      },
      "source": [
        "Second: Companies whose average speed during the trip is greater than 60 km/h "
      ]
    },
    {
      "cell_type": "code",
      "metadata": {
        "id": "JispueKnVmRY"
      },
      "source": [
        "query = '''\n",
        "with speed_dist as (select r.secuenciarecorrido, r.idruta,  r.velocidad, v.idempresa , v.nombres  \n",
        "\tfrom detalles_recorrido r\n",
        "  left join vehiculos v on r.idvehiculo  = v.idvehiculo\n",
        "where r.velocidad > 60) \n",
        "select nombres as nombre_empresa, count(distinct secuenciarecorrido) as num_recorridos,avg(velocidad) as vel_promedio\n",
        "from speed_dist\n",
        "group by 1\n",
        "order by vel_promedio desc\n",
        "'''\n",
        "df = runQuery(query)   \n",
        "chart=sns.barplot(x=\"nombre_empresa\", y=\"num_recorridos\", data=df.head(10))\n",
        "chart.set_xticklabels(chart.get_xticklabels(), rotation=90)"
      ],
      "execution_count": null,
      "outputs": []
    },
    {
      "cell_type": "markdown",
      "metadata": {
        "id": "D-cEEaPpWXwh"
      },
      "source": [
        "Third: Passengers demand by route for a specific date"
      ]
    },
    {
      "cell_type": "code",
      "metadata": {
        "id": "WOLcSP76Whp3"
      },
      "source": [
        "query = '''\n",
        "with datos as (\n",
        "select distinct \n",
        "  idruta as ruta, \n",
        "  cantpasajerossuben \n",
        "from detalles_recorrido \n",
        "where ultimafecharegistro='2019-02-06'\n",
        ") \n",
        "select \n",
        "  ruta, \n",
        "  sum(cantpasajerossuben) as total_demanda\n",
        "from datos \n",
        "group by 1\n",
        "order by 2 desc\n",
        "'''\n",
        "df = runQuery(query) \n",
        "chart=sns.barplot(x=\"ruta\", y=\"total_demanda\", data=df.head(10))\n",
        "chart.set_xticklabels(chart.get_xticklabels(), rotation=90)"
      ],
      "execution_count": null,
      "outputs": []
    },
    {
      "cell_type": "markdown",
      "metadata": {
        "id": "zOzf1IFkW54k"
      },
      "source": [
        "Fourth: Average speed per route"
      ]
    },
    {
      "cell_type": "code",
      "metadata": {
        "id": "-epKknoJW8Mt"
      },
      "source": [
        "query = '''\n",
        "SELECT idruta, avg(velocidad) as vel_promedio\n",
        "    FROM detalles_recorrido WHERE recorridofinalizado = 'S'\n",
        "    group by idruta;\n",
        "'''\n",
        "df = runQuery(query)\n",
        "sns.displot(df, x=\"vel_promedio\", kind=\"kde\", fill=True)"
      ],
      "execution_count": null,
      "outputs": []
    },
    {
      "cell_type": "markdown",
      "metadata": {
        "id": "LYnv8UHLZBFh"
      },
      "source": [
        "EDA\n"
      ]
    },
    {
      "cell_type": "code",
      "metadata": {
        "id": "NIfqZpQoZC7W"
      },
      "source": [
        "#Register count per trip.\n",
        "ids_recorridos = pd.read_sql(\"\"\"\n",
        "SELECT secuenciarecorrido, COUNT(*) AS Conteo\n",
        "FROM recorrido\n",
        "GROUP BY secuenciarecorrido;\n",
        "\"\"\",con = ruta)\n",
        "ids_recorridos[\"conteo\"].mean()"
      ],
      "execution_count": null,
      "outputs": []
    },
    {
      "cell_type": "code",
      "metadata": {
        "id": "ekvSnGQ_aF12"
      },
      "source": [
        "#Register count per type of trip (finished, unfinished)\n",
        "recorridos_finalizados = pd.read_sql(\"\"\"\n",
        "SELECT recorridofinalizado, secuenciarecorrido, COUNT(*) AS Conteo\n",
        "FROM recorrido\n",
        "GROUP BY secuenciarecorrido,recorridofinalizado;\n",
        "\"\"\",con = ruta)\n",
        "recorridos_finalizados = recorridos_finalizados.groupby(\"recorridofinalizado\").agg(\"count\")[[\"conteo\"]].reset_index()\n",
        "recorridos_finalizados"
      ],
      "execution_count": null,
      "outputs": []
    },
    {
      "cell_type": "code",
      "metadata": {
        "id": "wjfw8jnNaXym"
      },
      "source": [
        "#Vehicles count\n",
        "vehiculos_conteo = pd.read_sql(\"\"\"\n",
        "SELECT idvehiculo, COUNT(*) AS Conteo\n",
        "FROM recorrido\n",
        "GROUP BY idvehiculo;\n",
        "\"\"\",con = ruta)\n",
        "vehiculos_conteo.shape\n",
        "vehiculos_conteo[\"conteo\"].mean()"
      ],
      "execution_count": null,
      "outputs": []
    },
    {
      "cell_type": "code",
      "metadata": {
        "id": "Kulxbv5sal60"
      },
      "source": [
        "#Register count per company\n",
        "import plotly.express as px\n",
        "\n",
        "empresas_conteo = pd.read_sql(\"\"\"\n",
        "SELECT idempresa, COUNT(*) AS Conteo\n",
        "FROM recorrido\n",
        "GROUP BY idempresa;\n",
        "\"\"\",con = ruta)\n",
        "empresas_conteo.shape\n",
        "empresas_conteo[\"conteo\"].mean()\n",
        "fig = px.bar(empresas_conteo, x='idempresa', y='conteo',\n",
        "            labels = {'idempresa':'IDcompany',\"conteo\":\"Count\"},\n",
        "             title = \"Distribution of register by company\")\n",
        "fig.show()"
      ],
      "execution_count": null,
      "outputs": []
    },
    {
      "cell_type": "code",
      "metadata": {
        "id": "I_zq0ugCba42"
      },
      "source": [
        "#Register count per route \n",
        "rutas_conteo = pd.read_sql(\"\"\"\n",
        "SELECT codigoruta, COUNT(*) AS Conteo\n",
        "FROM recorrido\n",
        "GROUP BY codigoruta;\n",
        "\"\"\",con = ruta)\n",
        "rutas_conteo.shape #cantidad de filas son la cantidad de rutas únicas\n",
        "rutas_conteo[\"conteo\"].mean() #Cantidad de registros promdio por ruta \n"
      ],
      "execution_count": null,
      "outputs": []
    },
    {
      "cell_type": "code",
      "metadata": {
        "id": "2kPH9j80bxrU"
      },
      "source": [
        "#Register count per date \n",
        "df_fechas_conteo = pd.read_sql(\"\"\"\n",
        "SELECT DATE(fecharegistro) AS Date, COUNT(*) AS Count\n",
        "FROM recorrido\n",
        "GROUP BY Date;\n",
        "\"\"\",con = ruta)\n",
        "df_fechas_conteo['date'] = pd.to_datetime(df_fechas_conteo['date'], format=\"%Y-%m-%d\") #Variable como fecha\n",
        "df_otrosmeses = df_fechas_conteo[(df_fechas_conteo[\"date\"]<=\"2020-09-01\")&(df_fechas_conteo[\"date\"]>=\"2020-01-01\")] #filtro de data para meses antes de septiembre\n",
        "septiembre = df_fechas_conteo[(df_fechas_conteo[\"date\"]>=\"2020-09-01\")&(df_fechas_conteo[\"date\"]>=\"2020-01-01\")] #Filtro para septiembre\n",
        "#se dividen en dos df poque la cantidad de datos de septiembre es demasiado grande para colocarlo en comparación con los demás meses (Septiembre tiene millones y los otros meses tienen miles)\n",
        "# A partir de aquí correr en chunks independientes\n",
        "#grafico para la base de septiembre\n",
        "fig = px.line(septiembre, x=\"date\", y=\"count\", title='Count register in september')\n",
        "fig.show()\n",
        "#grafico para la base para los otros meses\n",
        "fig = px.line(df_otrosmeses, x=\"date\", y=\"count\", title='Count register other months')\n",
        "fig.show()"
      ],
      "execution_count": null,
      "outputs": []
    },
    {
      "cell_type": "code",
      "metadata": {
        "id": "FTRiXYQNcDBG"
      },
      "source": [
        "##Top 20 of Register count of finished trips, whose speed is greater than 60\n",
        "df7 = pd.read_sql(\"\"\"\n",
        "    SELECT COUNT(secuenciarecorrido) exceso,secuenciarecorrido\n",
        "        from recorrido WHERE recorridofinalizado = 'S' AND velocidad > 60 \n",
        "        group by secuenciarecorrido\n",
        "        ORDER BY exceso DESC\n",
        "        LIMIT 20;\n",
        "\"\"\",con = ruta)\n",
        "ids_recorridos[\"conteo\"].mean()\n",
        "chart=sns.barplot(x=\"secuenciarecorrido\", y=\"exceso\", data=df7)\n",
        "chart.set_xticklabels(chart.get_xticklabels(), rotation=90)"
      ],
      "execution_count": null,
      "outputs": []
    },
    {
      "cell_type": "code",
      "metadata": {
        "id": "cH_fCHF7cTj1"
      },
      "source": [
        "#Average registers of finished trips, whose speed is greater than 60\n",
        "countexcesosAvg = pd.read_sql(\"\"\"\n",
        "SELECT AVG(f.exceso) \n",
        "FROM (\n",
        "    SELECT COUNT(secuenciarecorrido) exceso,secuenciarecorrido\n",
        "        from recorrido WHERE recorridofinalizado = 'S' AND velocidad > 60 \n",
        "        group by secuenciarecorrido\n",
        "        ORDER BY exceso DESC\n",
        "        ) f;\n",
        "\"\"\",con = ruta)\n",
        "countexcesosAvg"
      ],
      "execution_count": null,
      "outputs": []
    },
    {
      "cell_type": "code",
      "metadata": {
        "id": "_XCPQfEQcoIT"
      },
      "source": [
        "#Companies with trips with a speed greater than 60\n",
        "df8 = pd.read_sql(\"\"\"\n",
        "select count( distinct  g.secuenciarecorrido), g.idempresa, g.nombres from\n",
        " (select r.secuenciarecorrido, r.codigoruta, (r.subendelantera+r.subentrasera) as suben, r.velocidad, v.idempresa , v.nombres  \n",
        "\tfrom recorrido r, vehiculos v, empresas e where r.idvehiculo  = v.idvehiculo and r.velocidad > 60) g\n",
        "group by g.idempresa, g.nombres order by count desc\n",
        "\"\"\",con = ruta)\n",
        "chart=sns.barplot(x=\"nombres\", y=\"count\", data=df8.head(10))\n",
        "chart.set_xticklabels(chart.get_xticklabels(), rotation=90)"
      ],
      "execution_count": null,
      "outputs": []
    },
    {
      "cell_type": "code",
      "metadata": {
        "id": "bKdHjlqFeIb0"
      },
      "source": [
        "#average passenger demand of finished trips\n",
        "promediopasajeros = pd.read_sql(\"\"\"\n",
        "select avg(f.total) from (\n",
        "\tSelect  sum(g.suben) as total, g.secuenciarecorrido \n",
        "\t\tfrom (\n",
        "\t\t\tSELECT secuenciarecorrido, codigoruta, (subendelantera+subentrasera) as suben, \n",
        "\t\t\tDATE_PART('dow',fecharegistro::TIMESTAMP) as dia \n",
        "\t\t\tfrom datafilter WHERE recorridofinalizado = 'S' ) \n",
        "\t\tg group by  g.secuenciarecorrido) f;\n",
        "\n",
        "\"\"\",con = ruta)"
      ],
      "execution_count": null,
      "outputs": []
    },
    {
      "cell_type": "code",
      "metadata": {
        "id": "PW2_f7VKeRkO"
      },
      "source": [
        "#Demand per day of the week \n",
        "sumaDemandaday = pd.read_sql(\"\"\"\n",
        "Select  sum(g.suben) as total, g.dia \n",
        "from (\n",
        "\tSELECT secuenciarecorrido, codigoruta, (subendelantera+subentrasera) as suben, \n",
        "\tDATE_PART('dow',fecharegistro::TIMESTAMP) as dia \n",
        "\tfrom recorrido WHERE recorridofinalizado = 'S' ) \n",
        "g group by  g.dia order by total desc;\n",
        "\n",
        "\"\"\",con = ruta)\n",
        "sumaDemandaday\n"
      ],
      "execution_count": null,
      "outputs": []
    },
    {
      "cell_type": "code",
      "metadata": {
        "id": "Wk_LDdIXemQk"
      },
      "source": [
        "#Average capacity per company\n",
        "\n",
        "query = pd.read_sql(\"\"\"\n",
        "with company_info as (\n",
        "\tselect distinct \n",
        "\t\te.nombres as company_name, \n",
        "\t\tr.idvehiculo, \n",
        "\t\tv.cappasajeros as capacity\n",
        "\tfrom recorrido r\n",
        "\tleft join empresas e on r.idempresa = e.idempresa\n",
        "\tleft join vehiculos v on r.idvehiculo = v.idvehiculo\n",
        "\twhere \n",
        "\t\tfecharegistro::date between '2020-09-21' and '2020-09-25'\n",
        ")\n",
        "select \n",
        "\tcompany_name, \n",
        "\tround(avg(capacity)) as avg_capacity\n",
        "from company_info\n",
        "group by 1\n",
        "order by avg_capacity desc \n",
        "\n",
        "\"\"\",con = ruta)\n",
        "average_capacity_per_company = query\n",
        "average_capacity_per_company"
      ],
      "execution_count": null,
      "outputs": []
    },
    {
      "cell_type": "code",
      "metadata": {
        "id": "bwgWz9Lfe3PP"
      },
      "source": [
        "#Average routes number per company\n",
        "query = pd.read_sql(\"\"\"\n",
        "with number_of_routes_per_day as (\n",
        "\tselect \n",
        "\t\tfecharegistro::date as register_date, \n",
        "\t\te.nombres as company_name, \n",
        "\t\tcount(distinct codigoruta)\tas total_routes \n",
        "\tfrom recorrido r\n",
        "\tleft join empresas e on r.idempresa = e.idempresa\n",
        "\tgroup by 1,2\n",
        ") \n",
        "select \n",
        "\tcompany_name, \n",
        "\tround(avg(total_routes)) avg_route_number\n",
        "from number_of_routes_per_day \n",
        "where \n",
        "\tregister_date between '2020-09-21' and '2020-09-25'\n",
        "group by 1\n",
        "order by avg_route_number desc \n",
        "limit 10 ;\n",
        "\n",
        "\"\"\",con = ruta)\n",
        "number_routes_per_company = query\n",
        "plt.figure(figsize=(10,10))\n",
        "ax=sns.barplot(y='company_name',x='avg_route_number',data=number_routes_per_company,\n",
        "            color='blue',alpha=0.5,orient='h')\n",
        "plt.xlabel('')\n",
        "plt.ylabel('')\n",
        "plt.title('Average number of routes per company')\n",
        "ax.spines['top'].set_visible(False)\n",
        "ax.spines['right'].set_visible(False)\n",
        "ax.spines['bottom'].set_visible(False)\n",
        "ax.spines['left'].set_visible(False)\n",
        "plt.tight_layout()\n",
        "plt.savefig('avg_number_of_routes_per_company.png')\n",
        "plt.figure(figsize=(10,10))\n",
        "ax=sns.barplot(y='company_name',x='avg_route_number',data=number_routes_per_company,\n",
        "            color='blue',alpha=0.5,orient='h')\n",
        "plt.xlabel('')\n",
        "plt.ylabel('')\n",
        "plt.title('Average number of routes per company')\n",
        "ax.spines['top'].set_visible(False)\n",
        "ax.spines['right'].set_visible(False)\n",
        "ax.spines['bottom'].set_visible(False)\n",
        "ax.spines['left'].set_visible(False)\n",
        "plt.tight_layout()\n",
        "plt.savefig('avg_number_of_routes_per_company.png')\n"
      ],
      "execution_count": null,
      "outputs": []
    },
    {
      "cell_type": "code",
      "metadata": {
        "id": "qYvsBsMkgp2M"
      },
      "source": [
        "#trip count and average speed per company, when speed is greater than 60\n",
        "query='''\n",
        "with speed_dist as (select r.secuenciarecorrido, r.idruta,  r.velocidad, v.idempresa , v.nombres  \n",
        "\tfrom detalles_recorrido r\n",
        "  left join vehiculos v on r.idvehiculo  = v.idvehiculo\n",
        "where r.velocidad > 60) \n",
        "select nombres as nombre_empresa, count(distinct secuenciarecorrido) as num_recorridos,avg(velocidad) as vel_promedio\n",
        "from speed_dist\n",
        "group by 1\n",
        "order by vel_promedio desc\n",
        "'''\n",
        "df = runQuery(query)\n",
        "df"
      ],
      "execution_count": null,
      "outputs": []
    },
    {
      "cell_type": "code",
      "metadata": {
        "id": "2N-GF1Tyg-VP"
      },
      "source": [
        "#Passenger demand per route \n",
        "with datos as (\n",
        "select distinct \n",
        "  secuenciarecorrido,\n",
        "  idruta as ruta, \n",
        "  cantpasajerossuben \n",
        "from detalles_recorrido \n",
        "where ultimafecharegistro='2019-02-06'\n",
        ") \n",
        "select \n",
        "  ruta, \n",
        "  sum(cantpasajerossuben) as total_demanda\n",
        "from datos \n",
        "group by 1\n",
        "order by 2 desc"
      ],
      "execution_count": null,
      "outputs": []
    }
  ]
}